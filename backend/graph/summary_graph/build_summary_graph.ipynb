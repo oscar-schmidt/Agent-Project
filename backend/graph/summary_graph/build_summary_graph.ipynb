{
 "cells": [
  {
   "cell_type": "code",
   "execution_count": 7,
   "metadata": {},
   "outputs": [],
   "source": [
    "from dotenv import load_dotenv\n",
    "import os\n",
    "import sys\n",
    "from pathlib import Path\n",
    "project_root = Path().resolve().parent.parent  \n",
    "sys.path.append(str(project_root))\n",
    "\n",
    "from IPython.display import Image, display"
   ]
  },
  {
   "cell_type": "code",
   "execution_count": 8,
   "metadata": {},
   "outputs": [
    {
     "ename": "ModuleNotFoundError",
     "evalue": "No module named 'backend'",
     "output_type": "error",
     "traceback": [
      "\u001b[31m---------------------------------------------------------------------------\u001b[39m",
      "\u001b[31mModuleNotFoundError\u001b[39m                       Traceback (most recent call last)",
      "\u001b[36mCell\u001b[39m\u001b[36m \u001b[39m\u001b[32mIn[8]\u001b[39m\u001b[32m, line 3\u001b[39m\n\u001b[32m      1\u001b[39m \u001b[38;5;28;01mfrom\u001b[39;00m\u001b[38;5;250m \u001b[39m\u001b[34;01mlanggraph\u001b[39;00m\u001b[34;01m.\u001b[39;00m\u001b[34;01mgraph\u001b[39;00m\u001b[38;5;250m \u001b[39m\u001b[38;5;28;01mimport\u001b[39;00m StateGraph, START, END\n\u001b[32m----> \u001b[39m\u001b[32m3\u001b[39m \u001b[38;5;28;01mfrom\u001b[39;00m\u001b[38;5;250m \u001b[39m\u001b[34;01mbackend\u001b[39;00m\u001b[34;01m.\u001b[39;00m\u001b[34;01mmodel\u001b[39;00m\u001b[34;01m.\u001b[39;00m\u001b[34;01mstates\u001b[39;00m\u001b[34;01m.\u001b[39;00m\u001b[34;01mGraphState\u001b[39;00m\u001b[38;5;250m \u001b[39m\u001b[38;5;28;01mimport\u001b[39;00m GraphState\n\u001b[32m      4\u001b[39m \u001b[38;5;28;01mfrom\u001b[39;00m\u001b[38;5;250m \u001b[39m\u001b[34;01mbackend\u001b[39;00m\u001b[34;01m.\u001b[39;00m\u001b[34;01mnodes\u001b[39;00m\u001b[34;01m.\u001b[39;00m\u001b[34;01msummary_node\u001b[39;00m\u001b[34;01m.\u001b[39;00m\u001b[34;01mget_summary_node\u001b[39;00m\u001b[38;5;250m \u001b[39m\u001b[38;5;28;01mimport\u001b[39;00m get_summary_node\n\u001b[32m      5\u001b[39m \u001b[38;5;28;01mfrom\u001b[39;00m\u001b[38;5;250m \u001b[39m\u001b[34;01mbackend\u001b[39;00m\u001b[34;01m.\u001b[39;00m\u001b[34;01mnodes\u001b[39;00m\u001b[34;01m.\u001b[39;00m\u001b[34;01mutils\u001b[39;00m\u001b[34;01m.\u001b[39;00m\u001b[34;01mchat_agent\u001b[39;00m\u001b[38;5;250m \u001b[39m\u001b[38;5;28;01mimport\u001b[39;00m chat_agent\n",
      "\u001b[31mModuleNotFoundError\u001b[39m: No module named 'backend'"
     ]
    }
   ],
   "source": [
    "from langgraph.graph import StateGraph, START, END\n",
    "\n",
    "from backend.model.states.graph_state.GraphState import GraphState\n",
    "from backend.nodes.summary_node.get_summary_node import get_summary_node\n",
    "from backend.nodes.utils.chat_agent import chat_agent\n",
    "\n",
    "\n",
    "\n",
    "def build_summary_graph(state:GraphState):\n",
    "\n",
    "    graph = StateGraph(GraphState)\n",
    "\n",
    "    \n",
    "    graph.add_node(\"get_summary_node\", get_summary_node)\n",
    "    graph.add_node(\"summary_chat_agent\", chat_agent)\n",
    "\n",
    "    graph.add_edge(START, \"get_summary_node\")\n",
    "    graph.add_edge(\"get_summary_node\", \"summary_chat_agent\")\n",
    "    graph.add_edge(\"get_summary_node\", END)\n",
    "\n",
    "    graph.set_entry_point(\"get_summary_node\")\n",
    "    graph.set_finish_point(\"summary_chat_agent\")\n",
    "\n",
    "\n",
    "    app= graph.compile()\n",
    "    display(Image(app.get_graph().draw_mermaid_png()))\n",
    "\n",
    "    return app\n"
   ]
  },
  {
   "cell_type": "code",
   "execution_count": null,
   "metadata": {},
   "outputs": [],
   "source": [
    "load_dotenv()\n",
    "PDF_PATH = os.getenv(\"PDF_PATH\")\n",
    "PDF_NAME = os.getenv(\"PDF_NAME\")\n",
    "\n",
    "\n",
    "state = GraphState()\n",
    "state.qa_state.pdf_path = PDF_PATH\n",
    "build_summary_graph(state)"
   ]
  }
 ],
 "metadata": {
  "kernelspec": {
   "display_name": "venv",
   "language": "python",
   "name": "python3"
  },
  "language_info": {
   "codemirror_mode": {
    "name": "ipython",
    "version": 3
   },
   "file_extension": ".py",
   "mimetype": "text/x-python",
   "name": "python",
   "nbconvert_exporter": "python",
   "pygments_lexer": "ipython3",
   "version": "3.13.5"
  },
  "orig_nbformat": 4
 },
 "nbformat": 4,
 "nbformat_minor": 2
}
